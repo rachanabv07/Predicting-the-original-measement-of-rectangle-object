{
  "cells": [
    {
      "cell_type": "code",
      "execution_count": 1,
      "metadata": {
        "id": "e7Kad1BpKuY-"
      },
      "outputs": [],
      "source": [
        "import cv2\n",
        "import numpy as np\n"
      ]
    },
    {
      "cell_type": "code",
      "execution_count": 2,
      "metadata": {
        "id": "9GknUiQJN4Gm"
      },
      "outputs": [],
      "source": [
        "Path = \"image.jpeg\"\n",
        "cap = cv2.VideoCapture(0)\n",
        "cap.set(10,160)\n",
        "cap.set(3,1920)\n",
        "cap.set(4,1080)\n",
        "\n",
        "\n",
        "scale = 3\n",
        "wP= 210*scale\n",
        "hP=297*scale"
      ]
    },
    {
      "cell_type": "code",
      "execution_count": 3,
      "metadata": {
        "id": "hC3osOyQO7Ff"
      },
      "outputs": [],
      "source": [
        "def getContours(img, cThr=[100, 100], showCanny=False, minArea = 1000, filter=0,draw = False):\n",
        "    imgGray = cv2.cvtColor(img, cv2.COLOR_BGR2GRAY)\n",
        "    imgBlur = cv2.GaussianBlur(imgGray, (5, 5), 1)\n",
        "    imgCanny = cv2.Canny(imgBlur, cThr[0], cThr[1])\n",
        "    kernel =np.ones((5,5))\n",
        "    imgDial = cv2.dilate(imgCanny,kernel,iterations =3)\n",
        "    imgThre = cv2.erode(imgDial,kernel,iterations =2)\n",
        "    if showCanny:\n",
        "      cv2_imshow(imgCanny)\n",
        "\n",
        "    contours, hiearchy = cv2.findContours(imgThre, cv2.RETR_EXTERNAL, cv2.CHAIN_APPROX_SIMPLE)\n",
        "    finalContours = []\n",
        "\n",
        "    for i in contours:\n",
        "      area = cv2.contourArea(i)\n",
        "      if area > minArea:\n",
        "        peri = cv2.arcLength(i,True)\n",
        "        approx = cv2.approxPolyDP(i, 0.02*peri,True)\n",
        "        bbox = cv2.boundingRect(approx)\n",
        "        if filter > 0:\n",
        "          if len(approx) == filter:\n",
        "            finalContours.append([len(approx), area, approx, bbox, i])\n",
        "        else:\n",
        "          finalContours.append([len(approx), area, approx, bbox, i])\n",
        "\n",
        "    finalContours = sorted(finalContours,key = lambda x:x[1], reverse = True)\n",
        "    if draw:\n",
        "      for con in finalContours:\n",
        "        cv2.drawContours(img, con[4], -1,(0,0,255),3)\n",
        "\n",
        "    return img, finalContours"
      ]
    },
    {
      "cell_type": "code",
      "execution_count": 4,
      "metadata": {
        "id": "HKAkRUwWlkHC"
      },
      "outputs": [],
      "source": [
        "def reorder(myPoints):\n",
        "  print(myPoints.shape)\n",
        "  myPointsNew = np.zeros_like(myPoints)\n",
        "  myPoints = myPoints.reshape((4,2))\n",
        "  add = myPoints.sum(1)\n",
        "  myPointsNew[0] = myPoints[np.argmin(add)]\n",
        "  myPointsNew[3] = myPoints[np.argmax(add)]\n",
        "  diff = np.diff(myPoints, axis =1)\n",
        "  myPointsNew[1] = myPoints[np.argmin(diff)]\n",
        "  myPointsNew[2] = myPoints[np.argmax(diff)]\n",
        "  return myPointsNew"
      ]
    },
    {
      "cell_type": "code",
      "execution_count": 5,
      "metadata": {
        "id": "_l4IxyP8nnKO"
      },
      "outputs": [],
      "source": [
        "def warpImg(img,points,w,h,pad=20):\n",
        "  #print(points)\n",
        "  points= reorder(points)\n",
        "\n",
        "  pts1 = np.array(points, dtype=np.float32)\n",
        "  pts2 = np.array([[0, 0], [w, 0], [0, h], [w, h]], dtype=np.float32)\n",
        "\n",
        "  matrix = cv2.getPerspectiveTransform(pts1, pts2)\n",
        "\n",
        "  imgWarp = cv2.warpPerspective(img,matrix,(w,h))\n",
        "  imgWarp = imgWarp[pad:imgWarp.shape[0]-pad, pad:imgWarp.shape[1]-pad]\n",
        "  return imgWarp"
      ]
    },
    {
      "cell_type": "code",
      "execution_count": 6,
      "metadata": {
        "id": "0Vtr9vJAnzh-"
      },
      "outputs": [],
      "source": [
        "def findDis(pts1,pts2):\n",
        "  return ((pts2[0]-pts1[0])**2 +(pts2[1]-pts1[1])**2)**0.5"
      ]
    },
    {
      "cell_type": "code",
      "execution_count": 9,
      "metadata": {
        "colab": {
          "base_uri": "https://localhost:8080/",
          "height": 383
        },
        "id": "p-AIDQ5xn50N",
        "outputId": "bda95956-ca96-4301-9805-e3e049135ba6"
      },
      "outputs": [
        {
          "name": "stdout",
          "output_type": "stream",
          "text": [
            "(4, 1, 2)\n",
            "(4, 1, 2)\n"
          ]
        }
      ],
      "source": [
        "img = cv2.imread(Path)\n",
        "img, cons = getContours(img,minArea = 50000, draw=True)\n",
        "\n",
        "if len(cons)!=0:\n",
        "  biggest = cons[0][2]\n",
        "  #print(biggest)\n",
        "  imgWarp = warpImg(img,biggest,wP,hP)\n",
        "\n",
        "  imgcon, cons2 = getContours(imgWarp,minArea = 2000,filter =4, cThr=[50,50], draw=True)\n",
        "\n",
        "\n",
        "  if len(cons)!=0:\n",
        "    for obj in cons2:\n",
        "      cv2.polylines(imgcon, [obj[2]], True, (0, 255, 0), 2)\n",
        "      nPoints = reorder(obj[2])\n",
        "      nW = round((findDis(nPoints[0][0] // scale, nPoints[1][0] //scale/10)), 1)\n",
        "      nH = round((findDis(nPoints[0][0]//scale, nPoints[2][0]//scale/10)),1)\n",
        "\n",
        "      cv2.arrowedLine(imgcon, (nPoints[0][0][0], nPoints[0][0][1]), (nPoints[1][0][0], nPoints[1][0][1]), (255, 0, 255), 3, 8, 0, 0.05)\n",
        "      cv2.arrowedLine(imgcon, (nPoints[0][0][0], nPoints[0][0][1]), (nPoints[2][0][0], nPoints[2][0][1]), (255, 0, 255), 3, 8, 0, 0.05)\n",
        "\n",
        "      x, y, w, h = obj[3]\n",
        "\n",
        "      cv2.putText(imgcon, '{} mm'.format(nW), (x + 30, y + 10), cv2.FONT_HERSHEY_COMPLEX_SMALL, 2, (255, 0, 255), 2)\n",
        "      cv2.putText(imgcon, '{} mm'.format(nH), (x + 70, y + h // 2), cv2.FONT_HERSHEY_COMPLEX_SMALL, 2, (255, 0, 255), 2)\n",
        "\n",
        "\n",
        "\n",
        "  cv2.imshow(\"ima\",imgcon)\n",
        "\n",
        "\n",
        "img = cv2.resize(img, (0, 0), None, 2, 2)\n",
        "#cv2_imshow(img)\n",
        "cv2.waitKey(0)\n",
        "cv2.destroyAllWindows()"
      ]
    },
    {
      "cell_type": "code",
      "execution_count": 9,
      "metadata": {
        "id": "bhWrL1AAoHcE"
      },
      "outputs": [],
      "source": []
    }
  ],
  "metadata": {
    "colab": {
      "provenance": []
    },
    "kernelspec": {
      "display_name": "Python 3",
      "name": "python3"
    },
    "language_info": {
      "codemirror_mode": {
        "name": "ipython",
        "version": 3
      },
      "file_extension": ".py",
      "mimetype": "text/x-python",
      "name": "python",
      "nbconvert_exporter": "python",
      "pygments_lexer": "ipython3",
      "version": "3.11.3"
    }
  },
  "nbformat": 4,
  "nbformat_minor": 0
}
